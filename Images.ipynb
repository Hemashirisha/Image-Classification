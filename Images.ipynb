{
  "nbformat": 4,
  "nbformat_minor": 0,
  "metadata": {
    "colab": {
      "name": "Image classification.ipynb",
      "provenance": [],
      "collapsed_sections": [],
      "mount_file_id": "1AHoRPul5mirVDuLU2uTC2dXOMVDzPjNP",
      "authorship_tag": "ABX9TyOJe66INnqmiPKgzlJ+GCra",
      "include_colab_link": true
    },
    "kernelspec": {
      "name": "python3",
      "display_name": "Python 3"
    }
  },
  "cells": [
    {
      "cell_type": "markdown",
      "metadata": {
        "id": "view-in-github",
        "colab_type": "text"
      },
      "source": [
        "<a href=\"https://colab.research.google.com/github/Hemashirisha/Image-Classification/blob/master/Images.ipynb\" target=\"_parent\"><img src=\"https://colab.research.google.com/assets/colab-badge.svg\" alt=\"Open In Colab\"/></a>"
      ]
    },
    {
      "cell_type": "code",
      "metadata": {
        "id": "d6jleGrdO9R3",
        "colab_type": "code",
        "colab": {
          "base_uri": "https://localhost:8080/",
          "height": 105
        },
        "outputId": "2146a4ad-6aad-40e7-c5ba-b27483cf9dbc"
      },
      "source": [
        "!pip install bing-image-downloader"
      ],
      "execution_count": null,
      "outputs": [
        {
          "output_type": "stream",
          "text": [
            "Collecting bing-image-downloader\n",
            "  Downloading https://files.pythonhosted.org/packages/0d/bf/537a61030b84ae4cd5022d5c7b014fd9bc3ce7c02358919153a6658a61d3/bing_image_downloader-1.0.4-py3-none-any.whl\n",
            "Installing collected packages: bing-image-downloader\n",
            "Successfully installed bing-image-downloader-1.0.4\n"
          ],
          "name": "stdout"
        }
      ]
    },
    {
      "cell_type": "code",
      "metadata": {
        "id": "WYyTcwtFPqi-",
        "colab_type": "code",
        "colab": {
          "base_uri": "https://localhost:8080/",
          "height": 34
        },
        "outputId": "827d04c5-a579-477f-b76b-49a690bb69ae"
      },
      "source": [
        "cd \"/content/drive/My Drive/Colab Notebooks/Images\""
      ],
      "execution_count": null,
      "outputs": [
        {
          "output_type": "stream",
          "text": [
            "/content/drive/My Drive/Colab Notebooks/Images\n"
          ],
          "name": "stdout"
        }
      ]
    },
    {
      "cell_type": "code",
      "metadata": {
        "id": "ZkdoS01XPuM-",
        "colab_type": "code",
        "colab": {}
      },
      "source": [
        "from bing_image_downloader import downloader"
      ],
      "execution_count": null,
      "outputs": []
    },
    {
      "cell_type": "code",
      "metadata": {
        "id": "xzxb8EDfP1oS",
        "colab_type": "code",
        "colab": {}
      },
      "source": [
        "downloader.download(\"lion\",limit=1000,output_dir=\"images\")"
      ],
      "execution_count": null,
      "outputs": []
    },
    {
      "cell_type": "code",
      "metadata": {
        "id": "i7H7r27YRCB0",
        "colab_type": "code",
        "colab": {}
      },
      "source": [
        "downloader.download(\"tiger\",limit=1000,output_dir=\"images\")"
      ],
      "execution_count": null,
      "outputs": []
    },
    {
      "cell_type": "code",
      "metadata": {
        "id": "3i2cp0HkSEvd",
        "colab_type": "code",
        "colab": {}
      },
      "source": [
        "import os"
      ],
      "execution_count": null,
      "outputs": []
    },
    {
      "cell_type": "code",
      "metadata": {
        "id": "w1C7HoiFS44e",
        "colab_type": "code",
        "colab": {}
      },
      "source": [
        "from skimage.io import imread\n",
        "from skimage.transform import resize\n",
        "import numpy as np\n",
        "from skimage.feature import hog\n",
        "import skimage"
      ],
      "execution_count": null,
      "outputs": []
    },
    {
      "cell_type": "code",
      "metadata": {
        "id": "vcDpBZHZUKEp",
        "colab_type": "code",
        "colab": {}
      },
      "source": [
        "target=[]\n",
        "flat_data=[]\n",
        "images=[]\n",
        "hog_images=[]\n",
        "path=\"/content/drive/My Drive/Colab Notebooks/Images/images/\""
      ],
      "execution_count": null,
      "outputs": []
    },
    {
      "cell_type": "code",
      "metadata": {
        "id": "iIH9AJvq3TKY",
        "colab_type": "code",
        "colab": {}
      },
      "source": [
        "def preprocess(img):\n",
        "    img_new=resize(img,(128,64))\n",
        "    img_new=np.array((skimage.color.rgb2gray(img_new)))\n",
        "    fd, hog_image = hog(img_new, orientations=9,pixels_per_cell=(8, 8),cells_per_block=(2, 2),visualize=True)\n",
        "    hog_images.append(hog_image)\n",
        "    flat_data.append(fd)"
      ],
      "execution_count": null,
      "outputs": []
    },
    {
      "cell_type": "code",
      "metadata": {
        "id": "djwCeg7eUp5E",
        "colab_type": "code",
        "colab": {}
      },
      "source": [
        "for dirpath,dirnames,filenames in os.walk(path):\n",
        "    for filename in filenames:\n",
        "        category=dirpath.split('/')[-1]\n",
        "        target.append(category)\n",
        "        img=imread(f'{path}{category}/{filename}')\n",
        "        preprocess(img)\n",
        "\n"
      ],
      "execution_count": null,
      "outputs": []
    },
    {
      "cell_type": "code",
      "metadata": {
        "id": "mV4fss8_UxP0",
        "colab_type": "code",
        "colab": {}
      },
      "source": [
        "import pandas as pd\n",
        "df=pd.DataFrame(flat_data)\n",
        "target=np.array(target)"
      ],
      "execution_count": null,
      "outputs": []
    },
    {
      "cell_type": "code",
      "metadata": {
        "id": "mcPg80trAcKi",
        "colab_type": "code",
        "colab": {}
      },
      "source": [
        "target=target[:2000]"
      ],
      "execution_count": null,
      "outputs": []
    },
    {
      "cell_type": "code",
      "metadata": {
        "id": "CXJa_49vBLxo",
        "colab_type": "code",
        "colab": {}
      },
      "source": [
        "df['target']=target\n",
        "df.to_csv(\"dataset.csv\")\n",
        "!cp dataset.csv \"drive/My Drive\"\n",
        "\n",
        "df.head()"
      ],
      "execution_count": null,
      "outputs": []
    }
  ]
}