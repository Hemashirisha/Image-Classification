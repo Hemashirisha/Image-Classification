{
  "nbformat": 4,
  "nbformat_minor": 0,
  "metadata": {
    "colab": {
      "name": "Image classifier.ipynb",
      "provenance": [],
      "collapsed_sections": [],
      "mount_file_id": "1i28k1B_HJ0ooe2ucO_xSHccb48xFV-ju",
      "authorship_tag": "ABX9TyP39T3CZZRklW0wyhOyEJCB",
      "include_colab_link": true
    },
    "kernelspec": {
      "name": "python3",
      "display_name": "Python 3"
    }
  },
  "cells": [
    {
      "cell_type": "markdown",
      "metadata": {
        "id": "view-in-github",
        "colab_type": "text"
      },
      "source": [
        "<a href=\"https://colab.research.google.com/github/Hemashirisha/Image-Classification/blob/master/Image_classifier.ipynb\" target=\"_parent\"><img src=\"https://colab.research.google.com/assets/colab-badge.svg\" alt=\"Open In Colab\"/></a>"
      ]
    },
    {
      "cell_type": "code",
      "metadata": {
        "id": "5D0UlykBSntt",
        "colab_type": "code",
        "colab": {}
      },
      "source": [
        "import os\n",
        "from skimage.io import imread\n",
        "from skimage.transform import resize\n",
        "import numpy as np\n",
        "from skimage.feature import hog\n",
        "import skimage\n",
        "import pandas as pd\n",
        "from sklearn.model_selection import train_test_split\n",
        "from sklearn.svm import SVC\n",
        "from sklearn.metrics import accuracy_score\n",
        "from sklearn.metrics import confusion_matrix\n",
        "from sklearn.preprocessing import StandardScaler\n"
      ],
      "execution_count": 1,
      "outputs": []
    },
    {
      "cell_type": "code",
      "metadata": {
        "id": "Oa06DQpwlatw",
        "colab_type": "code",
        "colab": {}
      },
      "source": [
        "from sklearn.decomposition import PCA"
      ],
      "execution_count": 2,
      "outputs": []
    },
    {
      "cell_type": "code",
      "metadata": {
        "id": "YAbs5o7-UXSF",
        "colab_type": "code",
        "colab": {}
      },
      "source": [
        "df=pd.read_csv(\"/content/drive/My Drive/dataset.csv\",index_col=0)\n",
        "df=df.drop_duplicates(subset=df.columns.difference(['target']))"
      ],
      "execution_count": 3,
      "outputs": []
    },
    {
      "cell_type": "code",
      "metadata": {
        "id": "g3CSYNP4UePu",
        "colab_type": "code",
        "colab": {}
      },
      "source": [
        "x=df.iloc[:,0:3780].values\n",
        "y=df['target']"
      ],
      "execution_count": 4,
      "outputs": []
    },
    {
      "cell_type": "code",
      "metadata": {
        "id": "eckyODOoUh3Z",
        "colab_type": "code",
        "colab": {}
      },
      "source": [
        "x_train,x_test,y_train,y_test=train_test_split(x,y,shuffle=True,random_state=45,train_size=0.75)"
      ],
      "execution_count": 5,
      "outputs": []
    },
    {
      "cell_type": "code",
      "metadata": {
        "id": "ENRD7svnlhIc",
        "colab_type": "code",
        "colab": {}
      },
      "source": [
        "pca=PCA(n_components=100)\n",
        "x_train_pca=pca.fit_transform(x_train)"
      ],
      "execution_count": 22,
      "outputs": []
    },
    {
      "cell_type": "code",
      "metadata": {
        "id": "A1sqXcURmUd_",
        "colab_type": "code",
        "colab": {}
      },
      "source": [
        "x_test_pca=pca.transform(x_test)"
      ],
      "execution_count": 23,
      "outputs": []
    },
    {
      "cell_type": "code",
      "metadata": {
        "id": "_kKewSAzUqMS",
        "colab_type": "code",
        "colab": {}
      },
      "source": [
        "model=SVC(kernel=\"linear\",C=18,gamma=5.383)"
      ],
      "execution_count": 24,
      "outputs": []
    },
    {
      "cell_type": "code",
      "metadata": {
        "id": "0TWW1qTdU4lC",
        "colab_type": "code",
        "colab": {
          "base_uri": "https://localhost:8080/",
          "height": 85
        },
        "outputId": "97e123bf-8171-44a0-ccd8-456207094c52"
      },
      "source": [
        "model.fit(x_train_pca,y_train)"
      ],
      "execution_count": 25,
      "outputs": [
        {
          "output_type": "execute_result",
          "data": {
            "text/plain": [
              "SVC(C=18, break_ties=False, cache_size=200, class_weight=None, coef0=0.0,\n",
              "    decision_function_shape='ovr', degree=3, gamma=5.383, kernel='linear',\n",
              "    max_iter=-1, probability=False, random_state=None, shrinking=True,\n",
              "    tol=0.001, verbose=False)"
            ]
          },
          "metadata": {
            "tags": []
          },
          "execution_count": 25
        }
      ]
    },
    {
      "cell_type": "code",
      "metadata": {
        "id": "lTf585xOU9jE",
        "colab_type": "code",
        "colab": {}
      },
      "source": [
        "y_pred=model.predict(x_test_pca)"
      ],
      "execution_count": 26,
      "outputs": []
    },
    {
      "cell_type": "code",
      "metadata": {
        "id": "oppptkC8VBZd",
        "colab_type": "code",
        "colab": {}
      },
      "source": [
        "score=accuracy_score(y_pred,y_test)"
      ],
      "execution_count": 27,
      "outputs": []
    },
    {
      "cell_type": "code",
      "metadata": {
        "id": "8dbCahenVFRS",
        "colab_type": "code",
        "colab": {
          "base_uri": "https://localhost:8080/",
          "height": 34
        },
        "outputId": "a4dbb52f-53e6-43cf-8b91-801232ad9c31"
      },
      "source": [
        "print(score)"
      ],
      "execution_count": 28,
      "outputs": [
        {
          "output_type": "stream",
          "text": [
            "0.68\n"
          ],
          "name": "stdout"
        }
      ]
    },
    {
      "cell_type": "code",
      "metadata": {
        "id": "DybvmwsOVGu_",
        "colab_type": "code",
        "colab": {
          "base_uri": "https://localhost:8080/",
          "height": 51
        },
        "outputId": "ceb99dec-26db-4c81-ff0c-202ee7136421"
      },
      "source": [
        "confusion_matrix(y_test,y_pred)"
      ],
      "execution_count": 29,
      "outputs": [
        {
          "output_type": "execute_result",
          "data": {
            "text/plain": [
              "array([[25, 13],\n",
              "       [11, 26]])"
            ]
          },
          "metadata": {
            "tags": []
          },
          "execution_count": 29
        }
      ]
    },
    {
      "cell_type": "code",
      "metadata": {
        "id": "Rzm_TOkD7q4b",
        "colab_type": "code",
        "colab": {}
      },
      "source": [
        ""
      ],
      "execution_count": 29,
      "outputs": []
    }
  ]
}